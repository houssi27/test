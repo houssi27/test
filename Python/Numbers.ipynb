{
 "cells": [
  {
   "cell_type": "code",
   "execution_count": 1,
   "id": "7981506d",
   "metadata": {},
   "outputs": [
    {
     "data": {
      "text/plain": [
       "3"
      ]
     },
     "execution_count": 1,
     "metadata": {},
     "output_type": "execute_result"
    }
   ],
   "source": [
    "2+1"
   ]
  },
  {
   "cell_type": "code",
   "execution_count": 2,
   "id": "3dff30a3",
   "metadata": {},
   "outputs": [
    {
     "data": {
      "text/plain": [
       "3"
      ]
     },
     "execution_count": 2,
     "metadata": {},
     "output_type": "execute_result"
    }
   ],
   "source": [
    "7%4"
   ]
  },
  {
   "cell_type": "code",
   "execution_count": 3,
   "id": "17fdd9cf",
   "metadata": {},
   "outputs": [
    {
     "data": {
      "text/plain": [
       "-1"
      ]
     },
     "execution_count": 3,
     "metadata": {},
     "output_type": "execute_result"
    }
   ],
   "source": [
    "1-2"
   ]
  },
  {
   "cell_type": "code",
   "execution_count": 4,
   "id": "6d122f18",
   "metadata": {},
   "outputs": [
    {
     "data": {
      "text/plain": [
       "4"
      ]
     },
     "execution_count": 4,
     "metadata": {},
     "output_type": "execute_result"
    }
   ],
   "source": [
    "1*4"
   ]
  },
  {
   "cell_type": "code",
   "execution_count": 5,
   "id": "486b85d3",
   "metadata": {},
   "outputs": [
    {
     "data": {
      "text/plain": [
       "0.8"
      ]
     },
     "execution_count": 5,
     "metadata": {},
     "output_type": "execute_result"
    }
   ],
   "source": [
    "4/5"
   ]
  },
  {
   "cell_type": "code",
   "execution_count": 6,
   "id": "0fff190d",
   "metadata": {},
   "outputs": [
    {
     "data": {
      "text/plain": [
       "1"
      ]
     },
     "execution_count": 6,
     "metadata": {},
     "output_type": "execute_result"
    }
   ],
   "source": [
    "2^3"
   ]
  },
  {
   "cell_type": "code",
   "execution_count": 7,
   "id": "10dfcf0d",
   "metadata": {},
   "outputs": [
    {
     "data": {
      "text/plain": [
       "8"
      ]
     },
     "execution_count": 7,
     "metadata": {},
     "output_type": "execute_result"
    }
   ],
   "source": [
    "2**3"
   ]
  },
  {
   "cell_type": "code",
   "execution_count": 8,
   "id": "f2cbeb3a",
   "metadata": {},
   "outputs": [
    {
     "data": {
      "text/plain": [
       "0"
      ]
     },
     "execution_count": 8,
     "metadata": {},
     "output_type": "execute_result"
    }
   ],
   "source": [
    "6^6"
   ]
  },
  {
   "cell_type": "code",
   "execution_count": 9,
   "id": "7525fa5b",
   "metadata": {},
   "outputs": [],
   "source": [
    "my_string=\"Hello World\""
   ]
  },
  {
   "cell_type": "code",
   "execution_count": 10,
   "id": "da13e947",
   "metadata": {},
   "outputs": [
    {
     "data": {
      "text/plain": [
       "'Hello World'"
      ]
     },
     "execution_count": 10,
     "metadata": {},
     "output_type": "execute_result"
    }
   ],
   "source": [
    "my_string"
   ]
  },
  {
   "cell_type": "code",
   "execution_count": 26,
   "id": "24b117e9",
   "metadata": {},
   "outputs": [
    {
     "name": "stdout",
     "output_type": "stream",
     "text": [
      "H\n",
      "\n",
      "e\n",
      "\n",
      "l\n",
      "\n",
      "l\n",
      "\n",
      "o\n",
      "\n",
      " \n",
      "\n",
      "W\n",
      "\n",
      "o\n",
      "\n",
      "r\n",
      "\n",
      "l\n",
      "\n",
      "d\n",
      "\n"
     ]
    }
   ],
   "source": [
    "for x in my_string:\n",
    "    print(x+\"\\n\")"
   ]
  },
  {
   "cell_type": "code",
   "execution_count": 13,
   "id": "e88b4d4f",
   "metadata": {},
   "outputs": [
    {
     "data": {
      "text/plain": [
       "'H'"
      ]
     },
     "execution_count": 13,
     "metadata": {},
     "output_type": "execute_result"
    }
   ],
   "source": [
    "my_string[0]"
   ]
  },
  {
   "cell_type": "code",
   "execution_count": 2,
   "id": "5dcdbf15",
   "metadata": {},
   "outputs": [],
   "source": [
    "dictionary={'key1':'value1','key2':'value2'}"
   ]
  },
  {
   "cell_type": "code",
   "execution_count": 3,
   "id": "5cf0fea9",
   "metadata": {},
   "outputs": [
    {
     "data": {
      "text/plain": [
       "{'key1': 'value1', 'key2': 'value2'}"
      ]
     },
     "execution_count": 3,
     "metadata": {},
     "output_type": "execute_result"
    }
   ],
   "source": [
    "dictionary"
   ]
  },
  {
   "cell_type": "code",
   "execution_count": 4,
   "id": "32219670",
   "metadata": {},
   "outputs": [
    {
     "data": {
      "text/plain": [
       "'value1'"
      ]
     },
     "execution_count": 4,
     "metadata": {},
     "output_type": "execute_result"
    }
   ],
   "source": [
    "dictionary['key1']"
   ]
  },
  {
   "cell_type": "code",
   "execution_count": 5,
   "id": "d64588d3",
   "metadata": {},
   "outputs": [],
   "source": [
    "d={'key':['a','b','c']}"
   ]
  },
  {
   "cell_type": "code",
   "execution_count": 6,
   "id": "16c25099",
   "metadata": {},
   "outputs": [
    {
     "data": {
      "text/plain": [
       "{'key': ['a', 'b', 'c']}"
      ]
     },
     "execution_count": 6,
     "metadata": {},
     "output_type": "execute_result"
    }
   ],
   "source": [
    "d"
   ]
  },
  {
   "cell_type": "code",
   "execution_count": 7,
   "id": "c9dd4ae2",
   "metadata": {},
   "outputs": [
    {
     "data": {
      "text/plain": [
       "'C'"
      ]
     },
     "execution_count": 7,
     "metadata": {},
     "output_type": "execute_result"
    }
   ],
   "source": [
    "d['key'][2].upper()"
   ]
  },
  {
   "cell_type": "code",
   "execution_count": 8,
   "id": "ea5dcc35",
   "metadata": {},
   "outputs": [],
   "source": [
    "d['key4'] = 32102"
   ]
  },
  {
   "cell_type": "code",
   "execution_count": 9,
   "id": "afa4aca3",
   "metadata": {},
   "outputs": [
    {
     "data": {
      "text/plain": [
       "{'key': ['a', 'b', 'c'], 'key4': 32102}"
      ]
     },
     "execution_count": 9,
     "metadata": {},
     "output_type": "execute_result"
    }
   ],
   "source": [
    "d"
   ]
  },
  {
   "cell_type": "code",
   "execution_count": 1,
   "id": "578d9063",
   "metadata": {},
   "outputs": [],
   "source": [
    "tupl=(1,2,3,4,5,3,2,4,1,3,3,3,5)"
   ]
  },
  {
   "cell_type": "code",
   "execution_count": 2,
   "id": "2f75867c",
   "metadata": {},
   "outputs": [
    {
     "data": {
      "text/plain": [
       "2"
      ]
     },
     "execution_count": 2,
     "metadata": {},
     "output_type": "execute_result"
    }
   ],
   "source": [
    "tupl.count(1)"
   ]
  },
  {
   "cell_type": "code",
   "execution_count": 3,
   "id": "5c7c626b",
   "metadata": {},
   "outputs": [
    {
     "data": {
      "text/plain": [
       "{'M', 'i', 'p', 's'}"
      ]
     },
     "execution_count": 3,
     "metadata": {},
     "output_type": "execute_result"
    }
   ],
   "source": [
    "set('Mississippi')"
   ]
  },
  {
   "cell_type": "code",
   "execution_count": 4,
   "id": "59af3387",
   "metadata": {},
   "outputs": [
    {
     "data": {
      "text/plain": [
       "{1, 2, 3}"
      ]
     },
     "execution_count": 4,
     "metadata": {},
     "output_type": "execute_result"
    }
   ],
   "source": [
    "set([1,1,2,3])"
   ]
  },
  {
   "cell_type": "code",
   "execution_count": 7,
   "id": "5b427c46",
   "metadata": {},
   "outputs": [
    {
     "name": "stdout",
     "output_type": "stream",
     "text": [
      "Writing test.txt\n"
     ]
    }
   ],
   "source": [
    "%%writefile test.txt\n",
    "This is the test file\n",
    "and this is the second line of the text file"
   ]
  },
  {
   "cell_type": "code",
   "execution_count": 8,
   "id": "448d7ef9",
   "metadata": {},
   "outputs": [],
   "source": [
    "myfile = open('test.txt')"
   ]
  },
  {
   "cell_type": "code",
   "execution_count": 9,
   "id": "ff1c11c9",
   "metadata": {},
   "outputs": [
    {
     "data": {
      "text/plain": [
       "'/Users/fd/Documents/VueJs/test/Python'"
      ]
     },
     "execution_count": 9,
     "metadata": {},
     "output_type": "execute_result"
    }
   ],
   "source": [
    "pwd"
   ]
  },
  {
   "cell_type": "code",
   "execution_count": 10,
   "id": "e6538b4e",
   "metadata": {},
   "outputs": [
    {
     "data": {
      "text/plain": [
       "'This is the test file\\nand this is the second line of the text file\\n'"
      ]
     },
     "execution_count": 10,
     "metadata": {},
     "output_type": "execute_result"
    }
   ],
   "source": [
    "myfile.read()"
   ]
  },
  {
   "cell_type": "code",
   "execution_count": 11,
   "id": "d4cad623",
   "metadata": {},
   "outputs": [
    {
     "data": {
      "text/plain": [
       "''"
      ]
     },
     "execution_count": 11,
     "metadata": {},
     "output_type": "execute_result"
    }
   ],
   "source": [
    "myfile.read()"
   ]
  },
  {
   "cell_type": "code",
   "execution_count": 12,
   "id": "8800f2a1",
   "metadata": {},
   "outputs": [
    {
     "data": {
      "text/plain": [
       "0"
      ]
     },
     "execution_count": 12,
     "metadata": {},
     "output_type": "execute_result"
    }
   ],
   "source": [
    "myfile.seek(0)"
   ]
  },
  {
   "cell_type": "code",
   "execution_count": 13,
   "id": "97585e19",
   "metadata": {},
   "outputs": [],
   "source": [
    "a=myfile.read()"
   ]
  },
  {
   "cell_type": "code",
   "execution_count": 14,
   "id": "352ea486",
   "metadata": {},
   "outputs": [
    {
     "data": {
      "text/plain": [
       "'This is the test file\\nand this is the second line of the text file\\n'"
      ]
     },
     "execution_count": 14,
     "metadata": {},
     "output_type": "execute_result"
    }
   ],
   "source": [
    "a"
   ]
  },
  {
   "cell_type": "code",
   "execution_count": 15,
   "id": "9ef746f2",
   "metadata": {},
   "outputs": [
    {
     "data": {
      "text/plain": [
       "0"
      ]
     },
     "execution_count": 15,
     "metadata": {},
     "output_type": "execute_result"
    }
   ],
   "source": [
    "myfile.seek(0)"
   ]
  },
  {
   "cell_type": "code",
   "execution_count": 16,
   "id": "1bccf055",
   "metadata": {},
   "outputs": [
    {
     "data": {
      "text/plain": [
       "['This is the test file\\n', 'and this is the second line of the text file\\n']"
      ]
     },
     "execution_count": 16,
     "metadata": {},
     "output_type": "execute_result"
    }
   ],
   "source": [
    "myfile.readlines()"
   ]
  },
  {
   "cell_type": "code",
   "execution_count": 21,
   "id": "ff8a9e89",
   "metadata": {},
   "outputs": [
    {
     "data": {
      "text/plain": [
       "'This is the test file\\nand this is the second line of the text file\\n'"
      ]
     },
     "execution_count": 21,
     "metadata": {},
     "output_type": "execute_result"
    }
   ],
   "source": [
    "a"
   ]
  },
  {
   "cell_type": "code",
   "execution_count": 18,
   "id": "03fa123e",
   "metadata": {},
   "outputs": [],
   "source": [
    "myfile.close()"
   ]
  },
  {
   "cell_type": "code",
   "execution_count": 22,
   "id": "553f115f",
   "metadata": {},
   "outputs": [],
   "source": [
    "a = open('/Users/fd/Desktop/Untitled.txt')"
   ]
  },
  {
   "cell_type": "code",
   "execution_count": 25,
   "id": "fb7ece45",
   "metadata": {},
   "outputs": [
    {
     "data": {
      "text/plain": [
       "[]"
      ]
     },
     "execution_count": 25,
     "metadata": {},
     "output_type": "execute_result"
    }
   ],
   "source": [
    "a.readlines()"
   ]
  },
  {
   "cell_type": "code",
   "execution_count": 26,
   "id": "87dbf670",
   "metadata": {},
   "outputs": [
    {
     "data": {
      "text/plain": [
       "0"
      ]
     },
     "execution_count": 26,
     "metadata": {},
     "output_type": "execute_result"
    }
   ],
   "source": [
    "a.seek(0)"
   ]
  },
  {
   "cell_type": "code",
   "execution_count": 27,
   "id": "6a323db3",
   "metadata": {},
   "outputs": [
    {
     "data": {
      "text/plain": [
       "['{\\\\rtf1\\\\ansi\\\\ansicpg1252\\\\cocoartf2576\\n',\n",
       " '\\\\cocoatextscaling0\\\\cocoaplatform0{\\\\fonttbl\\\\f0\\\\fswiss\\\\fcharset0 Helvetica;\\\\f1\\\\fnil\\\\fcharset0 HelveticaNeue;}\\n',\n",
       " '{\\\\colortbl;\\\\red255\\\\green255\\\\blue255;\\\\red0\\\\green0\\\\blue0;\\\\red0\\\\green0\\\\blue0;\\\\red255\\\\green255\\\\blue255;\\n',\n",
       " '}\\n',\n",
       " '{\\\\*\\\\expandedcolortbl;;\\\\cssrgb\\\\c0\\\\c0\\\\c0;\\\\csgray\\\\c0\\\\c0;\\\\cssrgb\\\\c100000\\\\c100000\\\\c100000;\\n',\n",
       " '}\\n',\n",
       " '\\\\paperw11900\\\\paperh16840\\\\margl1440\\\\margr1440\\\\vieww14740\\\\viewh10780\\\\viewkind0\\n',\n",
       " '\\\\pard\\\\tx566\\\\tx1133\\\\tx1700\\\\tx2267\\\\tx2834\\\\tx3401\\\\tx3968\\\\tx4535\\\\tx5102\\\\tx5669\\\\tx6236\\\\tx6803\\\\pardirnatural\\\\partightenfactor0\\n',\n",
       " '\\n',\n",
       " \"\\\\f0\\\\fs36 \\\\cf2 \\\\cb3 Bonjour, je suis Brahim El-houcine, jeune dipl\\\\'f4m\\\\'e9 en master 2 informatique, j\\\\'92ai candidat\\\\'e9 pour le master 1 informatique parcours technologie de l\\\\'92internet \\\\'e0 l\\\\'92universit\\\\'e9 de Pau\\\\\\n\",\n",
       " \"et malheureusement j\\\\'92ai eu un refus pour le motif \\\\\\n\",\n",
       " \"\\\\'93\\\\cf0 \\\\cb4 \\\\expnd0\\\\expndtw0\\\\kerning0\\n\",\n",
       " \"d\\\\'e9j\\\\'e0 dipl\\\\'f4m\\\\'e9 de niveau sup\\\\'e9rieur\\\\cf2 \\\\cb3 \\\\kerning1\\\\expnd0\\\\expndtw0 \\\\'94 \\\\\\n\",\n",
       " \"pour cela je souhaiterais vous transmettre ma grande volont\\\\'e9 \\\\'e0 vive voix \\\\\\n\",\n",
       " \"dans l\\\\'92espoir de vous convaincre que vous reveniez sur votre decision.\\\\\\n\",\n",
       " '\\\\\\n',\n",
       " \"En effet, comme je l\\\\'92ai d\\\\'e9j\\\\'e0 mentionn\\\\'e9, je suis titulaire d\\\\'92un master en informatique sp\\\\'e9cialit\\\\'e9 Web et ing\\\\'e9nierie des connaissances et aussi titulaire d\\\\'92une licence en syst\\\\'e8mes informatique. \\\\\\n\",\n",
       " '\\\\\\n',\n",
       " \"J\\\\'92ai postul\\\\'e9 l\\\\'92ann\\\\'e9e pass\\\\'e9 (2019-2020) pour la m\\\\'eame formation TI avec le m\\\\'eame dossier sauf que j\\\\'92ai candidat\\\\'e9 pour un Master 2 (bac+5) et vous m\\\\'92avez fait parvenir d\\\\'92un refus avec motif d\\\\'92insuffisance de niveau.\\\\\\n\",\n",
       " \"C\\\\'92est pour cela que je postule cette ann\\\\'e9e en master 1, pour acqu\\\\'e9rir les fondements et de bien int\\\\'e9grer la formation.\\\\\\n\",\n",
       " '\\\\\\n',\n",
       " \"Ce qui concerne les pr\\\\'e9-requis,\\n\",\n",
       " '\\\\f1  je maitrise \\n',\n",
       " \"\\\\f0 plusieurs languages de programmations tel que Python, language R, Matlab, Java et JavaScript, j\\\\'92ai d\\\\'e9velopp\\\\'e9 plusieurs logiciels de gestion\\n\",\n",
       " '\\\\f1 . \\\\\\n',\n",
       " '\\n',\n",
       " '\\\\f0 \\\\\\n',\n",
       " \"Je m\\\\'e8ne en ce moment une conception d\\\\'92un logiciel avec mon groupe pour un centre d\\\\'92appareillage orthop\\\\'e9dique, je suis donc habituer \\\\'e0 faire face aux contraintes qu\\\\'92on y rencontre et de les surmont\\\\'e9s.\\\\\\n\",\n",
       " \"Je suis passionn\\\\'e9 par les technologies de pointe, les technologies qui vise \\\\'e0 la fouille, l\\\\'92analyse et la gestion de donn\\\\'e9es ambiantes.\\\\\\n\",\n",
       " '\\\\\\n',\n",
       " '\\n',\n",
       " \"\\\\f1 Alors en plus je maitrise l\\\\'92anglais \\\\'e0 l\\\\'92orale comme \\\\'e0 l\\\\'92\\\\'e9crit et \\\\'e7a m\\\\'92a beaucoup aid\\\\'e9 dans ma recherche bibliographique.\\\\\\n\",\n",
       " '\\\\\\n',\n",
       " \"Donc voila, je tiens \\\\'e0 cette formation car \\\\'e7a me permettra de r\\\\'e9aliser mon r\\\\'eave et d\\\\'92atteindre mes aspirations professionnelles, alors j\\\\'92esp\\\\'e8re que mon recours vous aura convaincu et \\\\'e0 bient\\\\'f4t.\\\\\\n\",\n",
       " '\\\\\\n',\n",
       " '\\\\\\n',\n",
       " '\\\\\\n',\n",
       " '\\\\\\n',\n",
       " '\\\\\\n',\n",
       " '\\\\\\n',\n",
       " '\\\\\\n',\n",
       " '\\\\\\n',\n",
       " '\\\\\\n',\n",
       " '\\\\\\n',\n",
       " '\\\\\\n',\n",
       " '\\\\\\n',\n",
       " '\\\\\\n',\n",
       " '\\\\\\n',\n",
       " '\\\\\\n',\n",
       " '\\\\\\n',\n",
       " '\\\\\\n',\n",
       " '\\\\\\n',\n",
       " '\\\\\\n',\n",
       " '\\\\\\n',\n",
       " '\\\\\\n',\n",
       " '\\n',\n",
       " '\\\\f0 \\\\\\n',\n",
       " '\\\\\\n',\n",
       " '}']"
      ]
     },
     "execution_count": 27,
     "metadata": {},
     "output_type": "execute_result"
    }
   ],
   "source": [
    "a.readlines()"
   ]
  },
  {
   "cell_type": "code",
   "execution_count": 28,
   "id": "886dfe1b",
   "metadata": {},
   "outputs": [],
   "source": [
    "a.close()"
   ]
  },
  {
   "cell_type": "code",
   "execution_count": 2,
   "id": "32c38c49",
   "metadata": {},
   "outputs": [],
   "source": [
    "with open('test.txt') as a:\n",
    "    contents=a.read()"
   ]
  },
  {
   "cell_type": "code",
   "execution_count": 30,
   "id": "f1a24729",
   "metadata": {},
   "outputs": [
    {
     "ename": "ValueError",
     "evalue": "I/O operation on closed file.",
     "output_type": "error",
     "traceback": [
      "\u001b[0;31m---------------------------------------------------------------------------\u001b[0m",
      "\u001b[0;31mValueError\u001b[0m                                Traceback (most recent call last)",
      "\u001b[0;32m<ipython-input-30-8fcffd8463eb>\u001b[0m in \u001b[0;36m<module>\u001b[0;34m\u001b[0m\n\u001b[0;32m----> 1\u001b[0;31m \u001b[0ma\u001b[0m\u001b[0;34m.\u001b[0m\u001b[0mread\u001b[0m\u001b[0;34m(\u001b[0m\u001b[0;34m)\u001b[0m\u001b[0;34m\u001b[0m\u001b[0;34m\u001b[0m\u001b[0m\n\u001b[0m",
      "\u001b[0;31mValueError\u001b[0m: I/O operation on closed file."
     ]
    }
   ],
   "source": [
    "a.read()"
   ]
  },
  {
   "cell_type": "code",
   "execution_count": 3,
   "id": "2e73c76f",
   "metadata": {},
   "outputs": [
    {
     "data": {
      "text/plain": [
       "'This is the test file\\nand this is the second line of the text file\\n'"
      ]
     },
     "execution_count": 3,
     "metadata": {},
     "output_type": "execute_result"
    }
   ],
   "source": [
    "contents"
   ]
  },
  {
   "cell_type": "code",
   "execution_count": 5,
   "id": "696da667",
   "metadata": {},
   "outputs": [
    {
     "ename": "UnsupportedOperation",
     "evalue": "not readable",
     "output_type": "error",
     "traceback": [
      "\u001b[0;31m---------------------------------------------------------------------------\u001b[0m",
      "\u001b[0;31mUnsupportedOperation\u001b[0m                      Traceback (most recent call last)",
      "\u001b[0;32m<ipython-input-5-c0efbbbbe131>\u001b[0m in \u001b[0;36m<module>\u001b[0;34m\u001b[0m\n\u001b[1;32m      1\u001b[0m \u001b[0;32mwith\u001b[0m \u001b[0mopen\u001b[0m\u001b[0;34m(\u001b[0m\u001b[0;34m'test.txt'\u001b[0m\u001b[0;34m,\u001b[0m\u001b[0mmode\u001b[0m\u001b[0;34m=\u001b[0m\u001b[0;34m'w'\u001b[0m\u001b[0;34m)\u001b[0m \u001b[0;32mas\u001b[0m \u001b[0mb\u001b[0m\u001b[0;34m:\u001b[0m\u001b[0;34m\u001b[0m\u001b[0;34m\u001b[0m\u001b[0m\n\u001b[0;32m----> 2\u001b[0;31m     \u001b[0mcontents\u001b[0m \u001b[0;34m=\u001b[0m \u001b[0mb\u001b[0m\u001b[0;34m.\u001b[0m\u001b[0mread\u001b[0m\u001b[0;34m(\u001b[0m\u001b[0;34m)\u001b[0m\u001b[0;34m\u001b[0m\u001b[0;34m\u001b[0m\u001b[0m\n\u001b[0m",
      "\u001b[0;31mUnsupportedOperation\u001b[0m: not readable"
     ]
    }
   ],
   "source": [
    "with open('test.txt',mode='w') as b:\n",
    "    contents = b.read()"
   ]
  },
  {
   "cell_type": "code",
   "execution_count": 11,
   "id": "9531e15f",
   "metadata": {},
   "outputs": [
    {
     "name": "stdout",
     "output_type": "stream",
     "text": [
      "Overwriting test1.txt\n"
     ]
    }
   ],
   "source": [
    "%%writefile test1.txt\n",
    "One on first\n",
    "Two on second\n",
    "Three on third"
   ]
  },
  {
   "cell_type": "code",
   "execution_count": 14,
   "id": "c2f66f7d",
   "metadata": {},
   "outputs": [
    {
     "name": "stdout",
     "output_type": "stream",
     "text": [
      "One on first\n",
      "Two on second\n",
      "Three on third\n",
      "Four on fourth\n"
     ]
    }
   ],
   "source": [
    "with open ('test1.txt', mode='r') as c:\n",
    "    print(c.read())"
   ]
  },
  {
   "cell_type": "code",
   "execution_count": 13,
   "id": "5ff12248",
   "metadata": {},
   "outputs": [],
   "source": [
    "with open ('test1.txt',mode='a') as d:\n",
    "    d.write('Four on fourth')"
   ]
  },
  {
   "cell_type": "code",
   "execution_count": 15,
   "id": "5b5984c9",
   "metadata": {},
   "outputs": [
    {
     "data": {
      "text/plain": [
       "True"
      ]
     },
     "execution_count": 15,
     "metadata": {},
     "output_type": "execute_result"
    }
   ],
   "source": [
    "1<2 or 2>3"
   ]
  },
  {
   "cell_type": "code",
   "execution_count": null,
   "id": "67bf5ced",
   "metadata": {},
   "outputs": [],
   "source": []
  }
 ],
 "metadata": {
  "kernelspec": {
   "display_name": "Python 3",
   "language": "python",
   "name": "python3"
  },
  "language_info": {
   "codemirror_mode": {
    "name": "ipython",
    "version": 3
   },
   "file_extension": ".py",
   "mimetype": "text/x-python",
   "name": "python",
   "nbconvert_exporter": "python",
   "pygments_lexer": "ipython3",
   "version": "3.8.8"
  }
 },
 "nbformat": 4,
 "nbformat_minor": 5
}
